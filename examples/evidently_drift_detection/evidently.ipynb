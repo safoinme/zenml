{
 "cells": [
  {
   "cell_type": "markdown",
   "metadata": {
    "id": "RO_v5iIaYFi2"
   },
   "source": [
    "# ZenML Data Drift Detection With Evidently\n",
    "\n",
    "## Purpose\n",
    "\n",
    "Data Drift is something you often want to guard against in your pipelines.\n",
    "Machine learning pipelines are built on top of data inputs, so it is worth\n",
    "checking for drift if you have a model that was trained on a certain\n",
    "distribution of data.\n",
    "\n",
    "This example uses [`evidently`](https://github.com/evidentlyai/evidently), a\n",
    "useful open-source library to painlessly check for data drift (among other\n",
    "features). At its core, Evidently's drift detection takes in a reference data\n",
    "set and compares it against another comparison dataset. These are both input in\n",
    "the form of a `pandas` dataframe, though CSV inputs are also possible.\n",
    "\n",
    "ZenML implements this functionality in the form of a standard `EvidentlyProfileStep` step.\n",
    "You select which of the profile sections you want to use in your step by passing\n",
    "a string into the `EvidentlyProfileConfig`. Possible options supported by\n",
    "Evidently are:\n",
    "\n",
    "- \"datadrift\"\n",
    "- \"categoricaltargetdrift\"\n",
    "- \"numericaltargetdrift\"\n",
    "- \"dataquality\"\n",
    "- \"classificationmodelperformance\"\n",
    "- \"regressionmodelperformance\"\n",
    "- \"probabilisticmodelperformance\"\n",
    "\n",
    "If you want to run this notebook in an interactive environment, feel free to run\n",
    "it in a [Google Colab](https://colab.research.google.com/github/zenml-io/zenml/blob/main/examples/evidently_drift_detection/evidently.ipynb)\n",
    "or view it on [GitHub](https://github.com/zenml-io/zenml/tree/main/examples/evidently_drift_detection) directly."
   ]
  },
  {
   "cell_type": "markdown",
   "metadata": {
    "id": "VNLEesHEyjkg"
   },
   "source": [
    "## Install libraries"
   ]
  },
  {
   "cell_type": "code",
   "execution_count": null,
   "metadata": {
    "colab": {
     "base_uri": "https://localhost:8080/"
    },
    "id": "x7l4qDgcI_5F",
    "outputId": "ed764976-0d95-4e5f-e75d-805d2bab804c"
   },
   "outputs": [],
   "source": [
    "# Install the ZenML CLI tool, Evidently and scikit-learn\n",
    "\n",
    "!pip install zenml \n",
    "!zenml integration install evidently sklearn -y"
   ]
  },
  {
   "cell_type": "markdown",
   "metadata": {
    "id": "T_RCPyaNzPy-"
   },
   "source": [
    "Once the installation is completed, you can go ahead and create a ZenML repository for this project by running:"
   ]
  },
  {
   "cell_type": "code",
   "execution_count": null,
   "metadata": {
    "colab": {
     "base_uri": "https://localhost:8080/"
    },
    "id": "-lcfE3l2zTU-",
    "outputId": "3d3e70af-c87a-4ac9-917d-b322823431e1"
   },
   "outputs": [],
   "source": [
    "# Initialize a ZenML repository\n",
    "!zenml init"
   ]
  },
  {
   "cell_type": "markdown",
   "metadata": {
    "id": "yQE8PSXDzL-_"
   },
   "source": [
    "Now, the setup is completed. For the next steps, just make sure that you are executing the code within your ZenML repository."
   ]
  },
  {
   "cell_type": "markdown",
   "metadata": {},
   "source": [
    "## Setup the Stack"
   ]
  },
  {
   "cell_type": "markdown",
   "metadata": {},
   "source": [
    "You need to have an Evidently Data Validator component to your stack to be able to use Evidently data profiling in your ZenML pipelines. Creating such a stack is easily accomplished:"
   ]
  },
  {
   "cell_type": "code",
   "execution_count": null,
   "metadata": {
    "vscode": {
     "languageId": "shellscript"
    }
   },
   "outputs": [],
   "source": [
    "!zenml data-validator register evidently -f evidently\n",
    "!zenml stack register evidently_stack -o default -a default -dv evidently --set"
   ]
  },
  {
   "cell_type": "markdown",
   "metadata": {
    "id": "izjbDO-6yrFM"
   },
   "source": [
    "## Import relevant packages"
   ]
  },
  {
   "cell_type": "markdown",
   "metadata": {
    "id": "2gtj5QKCnSj0"
   },
   "source": [
    "We will use pipelines and steps to train our model."
   ]
  },
  {
   "cell_type": "code",
   "execution_count": null,
   "metadata": {
    "colab": {
     "base_uri": "https://localhost:8080/"
    },
    "id": "LvFo9epOUE7G",
    "outputId": "42bec4a0-41f9-4560-e9a1-e139f08c4e0a"
   },
   "outputs": [],
   "source": [
    "import pandas as pd\n",
    "from evidently.model_profile import Profile\n",
    "from rich import print\n",
    "from sklearn import datasets\n",
    "\n",
    "from zenml.integrations.constants import EVIDENTLY, SKLEARN\n",
    "from zenml.pipelines import pipeline\n",
    "from zenml.steps import Output, step"
   ]
  },
  {
   "cell_type": "markdown",
   "metadata": {
    "id": "6UwqjAR2yvH_"
   },
   "source": [
    "## Define ZenML Steps"
   ]
  },
  {
   "cell_type": "markdown",
   "metadata": {
    "id": "5wHcI2FinX2O"
   },
   "source": [
    "In the code that follows, we are defining the various steps of our pipeline. Each step is decorated with `@step`, the main abstraction that is currently available for creating pipeline steps, with the exception of the Evidently data drift built-in step that is shipped with ZenML."
   ]
  },
  {
   "cell_type": "markdown",
   "metadata": {
    "id": "QZI9i2FJ0k3H"
   },
   "source": [
    "The first step is a `data_loader` step that downloads the breast cancer Wisconsin dataset and returns it as a panda DataFrame. We'll use this as the reference dataset for our data drift detection example."
   ]
  },
  {
   "cell_type": "code",
   "execution_count": null,
   "metadata": {
    "colab": {
     "base_uri": "https://localhost:8080/"
    },
    "id": "1VT_PAW10jbp",
    "outputId": "36ecdd08-3bca-42b4-d84d-be76126840e8"
   },
   "outputs": [],
   "source": [
    "@step\n",
    "def data_loader() -> pd.DataFrame:\n",
    "    \"\"\"Load the breast cancer dataset.\"\"\"\n",
    "    breast_cancer = datasets.load_breast_cancer()\n",
    "    df = pd.DataFrame(\n",
    "        data=breast_cancer.data, columns=breast_cancer.feature_names\n",
    "    )\n",
    "    df[\"class\"] = breast_cancer.target\n",
    "    return df"
   ]
  },
  {
   "cell_type": "markdown",
   "metadata": {
    "id": "ma53mucU0yF3"
   },
   "source": [
    "We then add a `data_splitter` step that takes the input dataset and splits it into two subsets. Later on, in the pipeline, we'll compare these datasets against each other using Evidently and generate a data drift profile and associated dashboard."
   ]
  },
  {
   "cell_type": "code",
   "execution_count": null,
   "metadata": {
    "colab": {
     "base_uri": "https://localhost:8080/"
    },
    "id": "ZEw7Cbqx0wXj",
    "outputId": "0603fa51-eb20-4c22-d499-9e7f1f3a972b"
   },
   "outputs": [],
   "source": [
    "@step\n",
    "def data_splitter(\n",
    "    input_df: pd.DataFrame,\n",
    ") -> Output(reference_dataset=pd.DataFrame, comparison_dataset=pd.DataFrame):\n",
    "    \"\"\"Splits the dataset into two subsets, the reference dataset and the \n",
    "    comparison dataset\"\"\"\n",
    "    return input_df[100:], input_df[:100]"
   ]
  },
  {
   "cell_type": "markdown",
   "metadata": {
    "id": "aU9ygH9s1BgR"
   },
   "source": [
    "Next, we add an Evidently step that takes in the reference dataset and partial dataset and generates a data drift profile and HTML report. This step is already defined as part of the ZenML library, so we only need to add it to our pipeline with a custom configuration. Under the hood, ZenML uses Evidently in the implementation of this step to generate data drift reports and Materializers to automatically persist them as Artifacts into the Artifact Store."
   ]
  },
  {
   "cell_type": "code",
   "execution_count": null,
   "metadata": {
    "colab": {
     "base_uri": "https://localhost:8080/"
    },
    "id": "37mMICD_URDW",
    "outputId": "873fe64b-1105-4181-8541-c31356069305"
   },
   "outputs": [],
   "source": [
    "from zenml.integrations.evidently.steps import (\n",
    "    EvidentlyColumnMapping,\n",
    "    EvidentlyProfileParameters,\n",
    "    evidently_profile_step,\n",
    ")\n",
    "\n",
    "drift_detector = evidently_profile_step(\n",
    "    step_name=\"drift_detector\",\n",
    "    params=EvidentlyProfileParameters(\n",
    "        column_mapping=EvidentlyColumnMapping(\n",
    "            target=\"class\", prediction=\"class\"\n",
    "        ),\n",
    "        profile_sections=[\n",
    "            \"dataquality\",\n",
    "            \"categoricaltargetdrift\",\n",
    "            \"numericaltargetdrift\",\n",
    "            \"datadrift\",\n",
    "        ],\n",
    "        verbose_level=1,\n",
    "    )\n",
    ")"
   ]
  },
  {
   "cell_type": "markdown",
   "metadata": {
    "id": "aU9ygH9s1BgR"
   },
   "source": [
    "This next step serves as an example showing how the Evidently profile returned as output from the previous step can be used in other steps in the pipeline to analyze the data drift report in detail and take different actions depending on the results. "
   ]
  },
  {
   "cell_type": "code",
   "execution_count": null,
   "metadata": {
    "colab": {
     "base_uri": "https://localhost:8080/"
    },
    "id": "37mMICD_URDW",
    "outputId": "873fe64b-1105-4181-8541-c31356069305"
   },
   "outputs": [],
   "source": [
    "@step\n",
    "def analyze_drift(\n",
    "    profile: Profile,\n",
    ") -> bool:\n",
    "    \"\"\"Analyze the Evidently drift report and return a true/false value\n",
    "    indicating whether data drift was detected.\"\"\"\n",
    "    return profile.object()[\"data_drift\"][\"data\"][\"metrics\"][\"dataset_drift\"]\n"
   ]
  },
  {
   "cell_type": "markdown",
   "metadata": {
    "id": "u_iZTIz8y7Cp"
   },
   "source": [
    "## Define ZenML Pipeline"
   ]
  },
  {
   "cell_type": "markdown",
   "metadata": {
    "id": "oKbU3WlbnoiA"
   },
   "source": [
    "A pipeline is defined with the `@pipeline` decorator. This defines the various steps of the pipeline and specifies the dependencies between the steps, thereby determining the order in which they will be run.\n",
    "\n",
    "Note how the ZenML Evidently step returns two artifacts: the drift profile report and the drift HTML report. We only use the profile report in the pipeline, while the HTML report will be extracted and rendered separately in the post execution workflow, via the ZenML Evidently visualizer."
   ]
  },
  {
   "cell_type": "code",
   "execution_count": null,
   "metadata": {
    "id": "rm8SIrLFWenn"
   },
   "outputs": [],
   "source": [
    "from zenml.config import DockerSettings\n",
    "docker_settings = DockerSettings(required_integrations=[EVIDENTLY, SKLEARN])\n",
    "\n",
    "@pipeline(settings={\"docker\": docker_settings})\n",
    "def drift_detection_pipeline(\n",
    "    data_loader,\n",
    "    data_splitter,\n",
    "    drift_detector,\n",
    "    drift_analyzer,\n",
    "):\n",
    "    \"\"\"Links all the steps together in a pipeline\"\"\"\n",
    "    data = data_loader()\n",
    "    reference_dataset, comparison_dataset = data_splitter(data)\n",
    "    drift_report, _ = drift_detector(reference_dataset=reference_dataset, comparison_dataset=comparison_dataset)\n",
    "    drift_analyzer(drift_report)"
   ]
  },
  {
   "cell_type": "markdown",
   "metadata": {
    "id": "b-JtDHu_z1IX"
   },
   "source": [
    "## Run the pipeline"
   ]
  },
  {
   "cell_type": "markdown",
   "metadata": {
    "id": "NrJA5OSgnydC"
   },
   "source": [
    "Running the pipeline is as simple as calling the `run()` method on an instance of the defined pipeline."
   ]
  },
  {
   "cell_type": "code",
   "execution_count": null,
   "metadata": {
    "colab": {
     "base_uri": "https://localhost:8080/"
    },
    "id": "dRzZA406UVVz",
    "outputId": "2d5e9967-87b7-4553-a104-b1b6602e10a6"
   },
   "outputs": [],
   "source": [
    "pipeline_instance = drift_detection_pipeline(\n",
    "    data_loader=data_loader(),\n",
    "    data_splitter=data_splitter(),\n",
    "    drift_detector=drift_detector,\n",
    "    drift_analyzer=analyze_drift(),\n",
    ")\n",
    "pipeline_instance.run()"
   ]
  },
  {
   "cell_type": "markdown",
   "metadata": {},
   "source": [
    "# Post execution workflow"
   ]
  },
  {
   "cell_type": "markdown",
   "metadata": {},
   "source": [
    "We did mention above that the Materializer takes care of persisting the Evidently profile and HTML reports in the Artifact Store. These artifacts can be extracted and visualized after the pipeline run is complete."
   ]
  },
  {
   "cell_type": "code",
   "execution_count": null,
   "metadata": {},
   "outputs": [],
   "source": [
    "from zenml.integrations.evidently.visualizers import EvidentlyVisualizer\n",
    "\n",
    "last_run = pipeline_instance.get_runs()[-1]\n",
    "drift_analysis_step = last_run.get_step(\n",
    "    name=\"drift_analyzer\"\n",
    ")\n",
    "print(f'Data drift detected: {drift_analysis_step.output.read()}')"
   ]
  },
  {
   "cell_type": "markdown",
   "metadata": {},
   "source": [
    "Extracting and displaying the Evidently profile generated in the `drift_detector` step is possible, but using the ZenML Evidently visualizer, as shown in the section after next is the better alternative."
   ]
  },
  {
   "cell_type": "code",
   "execution_count": null,
   "metadata": {},
   "outputs": [],
   "source": [
    "import json\n",
    "\n",
    "drift_detection_step = last_run.get_step(\n",
    "    name=\"drift_detector\"\n",
    ")\n",
    "profile = drift_detection_step.outputs['profile'].read()\n",
    "print(profile.json())\n"
   ]
  },
  {
   "cell_type": "markdown",
   "metadata": {},
   "source": [
    "The ZenML Evidently visualizer takes in a ZenML pipeline step run and renders all the Evidently dashboards that were generated during its execution."
   ]
  },
  {
   "cell_type": "code",
   "execution_count": null,
   "metadata": {},
   "outputs": [],
   "source": [
    "EvidentlyVisualizer().visualize(drift_detection_step)"
   ]
  },
  {
   "cell_type": "markdown",
   "metadata": {},
   "source": [
    "# Congratulations!"
   ]
  },
  {
   "cell_type": "markdown",
   "metadata": {
    "id": "uOJtVVaFzlUO"
   },
   "source": [
    "You have successfully used ZenML and Evidently to detect data drift and visualize data drift reports.\n",
    "\n",
    "For more ZenML features and use-cases, you should check out some of the other ZenML examples. You should also take a look at our [docs](https://docs.zenml.io/) or our [Github](https://github.com/zenml-io/zenml) repo, or even better, join us on our [Slack channel](https://zenml.io/slack-invite).\n",
    "\n",
    "Cheers!"
   ]
  }
 ],
 "metadata": {
  "colab": {
   "collapsed_sections": [],
   "include_colab_link": true,
   "name": "ZenML Quickstart.ipynb",
   "provenance": []
  },
  "kernelspec": {
   "display_name": "Python 3",
   "language": "python",
   "name": "python3"
  },
  "language_info": {
   "codemirror_mode": {
    "name": "ipython",
    "version": 3
   },
   "file_extension": ".py",
   "mimetype": "text/x-python",
   "name": "python",
   "nbconvert_exporter": "python",
   "pygments_lexer": "ipython3",
   "version": "3.8.2"
  },
  "vscode": {
   "interpreter": {
    "hash": "92bd632b13ad08a98e6c591fb282887679d737095c495564873743f0fe7001fe"
   }
  }
 },
 "nbformat": 4,
 "nbformat_minor": 1
}
